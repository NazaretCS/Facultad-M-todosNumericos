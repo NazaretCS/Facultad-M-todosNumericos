{
 "cells": [
  {
   "cell_type": "code",
   "execution_count": null,
   "id": "2e317558",
   "metadata": {},
   "outputs": [],
   "source": [
    "\n",
    "# Punto 5\n",
    "\n",
    "import numpy as np\n",
    "import matplotlib.pyplot as plt\n",
    "\n",
    "x = np.linspace(0.999, 1.001, 500)\n",
    "#suma_1 = x**8-8*(x**7)+28*(x**6)-56*(x**5)+70*(x**4)-56*(x**3)+28*(x**2)-8*x+1\n",
    "fx = x**8 - 8*x**7 + 28*x**6 - 56*x**5 + 70*x**4 - 56*x**3 +28*x**2 - 8*x + 1\n",
    "\n",
    "#print(suma_1)\n",
    "\n",
    "gx = (x-1)**8 \n",
    "#print(suma_2)\n",
    "\n",
    "plt.figure(1,(12,8),55,'w','g')\n",
    "plt.subplot(2,1,1)\n",
    "plt.plot(x, fx)\n",
    "\n",
    "plt.subplot(2,1,2)\n",
    "plt.plot(x, gx)\n",
    "\n",
    "plt.show()"
   ]
  }
 ],
 "metadata": {
  "kernelspec": {
   "display_name": "Python 3 (ipykernel)",
   "language": "python",
   "name": "python3"
  },
  "language_info": {
   "codemirror_mode": {
    "name": "ipython",
    "version": 3
   },
   "file_extension": ".py",
   "mimetype": "text/x-python",
   "name": "python",
   "nbconvert_exporter": "python",
   "pygments_lexer": "ipython3",
   "version": "3.9.7"
  }
 },
 "nbformat": 4,
 "nbformat_minor": 5
}
