{
 "cells": [
  {
   "cell_type": "code",
   "execution_count": 18,
   "id": "b879f07e",
   "metadata": {},
   "outputs": [
    {
     "name": "stdout",
     "output_type": "stream",
     "text": [
      "-1763.3333333333333\n",
      "104263.82\n",
      "-104306.13\n",
      "0.0059268220148446325\n"
     ]
    }
   ],
   "source": [
    "print((-5.290) / (0.003))\n",
    "x = (1763*59.14)\n",
    "print(x)\n",
    "x = 1043*10**2\n",
    "print(-6.130- x)\n",
    "print((-5.671**-4) * -6.130)"
   ]
  },
  {
   "cell_type": "code",
   "execution_count": 14,
   "id": "2db0d2f6",
   "metadata": {},
   "outputs": [
    {
     "name": "stdout",
     "output_type": "stream",
     "text": [
      "-104269.93000000001\n"
     ]
    }
   ],
   "source": [
    "print(46.78 - ( 1763*59.17 ))"
   ]
  },
  {
   "cell_type": "code",
   "execution_count": 9,
   "id": "ecfa5fab",
   "metadata": {},
   "outputs": [
    {
     "name": "stdout",
     "output_type": "stream",
     "text": [
      "-1656.6666666666663\n"
     ]
    }
   ],
   "source": [
    "print( (54.17 - 59.14) / 0.003) "
   ]
  },
  {
   "cell_type": "code",
   "execution_count": 10,
   "id": "661157bc",
   "metadata": {},
   "outputs": [
    {
     "name": "stdout",
     "output_type": "stream",
     "text": [
      "54.17002\n",
      "-8769.8614\n"
     ]
    }
   ],
   "source": [
    "x1 = -1656.66\n",
    "x2 = 1\n",
    "\n",
    "print(0.003*x1 + 59.14 * x2)\n",
    "print(5.290*x1 - 6.130*x2)"
   ]
  },
  {
   "cell_type": "code",
   "execution_count": null,
   "id": "cde6d45b",
   "metadata": {},
   "outputs": [],
   "source": []
  },
  {
   "cell_type": "code",
   "execution_count": null,
   "id": "6a2ee41a",
   "metadata": {},
   "outputs": [],
   "source": []
  },
  {
   "cell_type": "code",
   "execution_count": null,
   "id": "d3e85027",
   "metadata": {},
   "outputs": [],
   "source": []
  }
 ],
 "metadata": {
  "kernelspec": {
   "display_name": "Python 3 (ipykernel)",
   "language": "python",
   "name": "python3"
  },
  "language_info": {
   "codemirror_mode": {
    "name": "ipython",
    "version": 3
   },
   "file_extension": ".py",
   "mimetype": "text/x-python",
   "name": "python",
   "nbconvert_exporter": "python",
   "pygments_lexer": "ipython3",
   "version": "3.9.7"
  }
 },
 "nbformat": 4,
 "nbformat_minor": 5
}
