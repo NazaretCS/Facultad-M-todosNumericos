{
 "cells": [
  {
   "cell_type": "code",
   "execution_count": 10,
   "id": "502a9a64",
   "metadata": {},
   "outputs": [
    {
     "name": "stdout",
     "output_type": "stream",
     "text": [
      "0.61803402264934\n",
      "Valor de xn1:  0.6191950464396285  Con un error relativo de:  0.006775000000000085\n"
     ]
    }
   ],
   "source": [
    "def g(x):\n",
    "    return 1/(1+x)\n",
    "\n",
    "print(g(0.6180339))  # Si verifica que g(a) = a\n",
    "\n",
    "xn = 0.615\n",
    "xn1 = 1/(1+xn)\n",
    " \n",
    "er = abs( (xn1 - xn) / xn1 )\n",
    "\n",
    "print(\"Valor de xn1: \", xn1, \" Con un error relativo de: \", er)"
   ]
  },
  {
   "cell_type": "code",
   "execution_count": 32,
   "id": "69adc477",
   "metadata": {},
   "outputs": [
    {
     "name": "stdout",
     "output_type": "stream",
     "text": [
      "Valor en iteracion  1 :  0.5  Con un error de:  1.0\n",
      "Valor en iteracion  2 :  0.6666666666666666  Con un error de:  0.24999999999999994\n",
      "Valor en iteracion  3 :  0.6000000000000001  Con un error de:  0.11111111111111088\n",
      "Valor en iteracion  4 :  0.625  Con un error de:  0.039999999999999855\n",
      "Valor en iteracion  5 :  0.6153846153846154  Con un error de:  0.015624999999999944\n",
      "Valor en iteracion  6 :  0.6190476190476191  Con un error de:  0.0059171597633135885\n",
      "Valor en iteracion  7 :  0.6176470588235294  Con un error de:  0.0022675736961451165\n",
      "Valor en iteracion  8 :  0.6181818181818182  Con un error de:  0.0008650519031141185\n",
      "Valor en iteracion  9 :  0.6179775280898876  Con un error de:  0.00033057851239674075\n",
      "El método a convergido\n",
      "Raiz:  0.6180555555555556\n"
     ]
    }
   ],
   "source": [
    "import numpy as np\n",
    "\n",
    "def f(x):\n",
    "    return (x**2 + x -1)\n",
    "\n",
    "def g(x):\n",
    "    return ( 1 / (1 + x))\n",
    "\n",
    "\n",
    "def PuntoFijo(xn, eps, MaxIt, f, d):\n",
    "    iteracion = 0 \n",
    "    xn_1 = g(xn)\n",
    "    #xn_1 = (xn - f(xn)/d(xn))\n",
    "    #xn = b\n",
    "    \n",
    "    while (iteracion <= MaxIt and np.abs(xn_1 - xn) > eps):\n",
    "        iteracion += 1\n",
    "        \n",
    "        error = np.abs((xn_1 - xn)/xn_1)\n",
    "        print('Valor en iteracion ', iteracion, \": \", xn_1, \" Con un error de: \", error)\n",
    "        xn = xn_1 \n",
    "        #print(\"fxn=\",f(xn),\"dx=\",d(xn))\n",
    "        #xn_1 = xn - (f(xn)/d(xn))\n",
    "        xn_1 = g(xn)        \n",
    "    \n",
    "    if iteracion > MaxIt:\n",
    "        print('El método no converge en ', MaxIt, ' Iteraciones')\n",
    "    else:\n",
    "        print('El método a convergido\\nRaiz: ',xn_1)\n",
    "\n",
    "\n",
    "        \n",
    "# MEtODO DE PUNTO FIJO\n",
    "PuntoFijo(1, 1.0E-4, 50, f, g)"
   ]
  },
  {
   "cell_type": "code",
   "execution_count": null,
   "id": "4c42eace",
   "metadata": {},
   "outputs": [],
   "source": []
  },
  {
   "cell_type": "code",
   "execution_count": 28,
   "id": "a449b123",
   "metadata": {},
   "outputs": [
    {
     "name": "stdout",
     "output_type": "stream",
     "text": [
      "El valor de la aproximacion es:  1.75  Con un error de:  0.24999999999999994 \n",
      "xn = 1 \n",
      "xn_1= 0.5 \n",
      "xn_2= 0.6666666666666666\n"
     ]
    }
   ],
   "source": [
    " # Calculo de la acelaracion de aitken a mano\n",
    "\n",
    "\n",
    "def g(x):\n",
    "    return ( 1 / (1 + x))\n",
    "\n",
    "xn = 1\n",
    "xn_1 = g(xn)\n",
    "xn_2 = g(xn_1)\n",
    "\n",
    "x = xn - ( (xn_1 - xn) / (xn_2 - 2*xn_1 + xn) )\n",
    "error = abs((xn_2 - xn_1) / xn_2)\n",
    "print(\"El valor de la aproximacion es: \", x, \" Con un error de: \",error, \"\\nxn =\",xn,\"\\nxn_1=\",xn_1,\"\\nxn_2=\",xn_2)\n"
   ]
  },
  {
   "cell_type": "code",
   "execution_count": 31,
   "id": "9ae137e1",
   "metadata": {},
   "outputs": [
    {
     "name": "stdout",
     "output_type": "stream",
     "text": [
      "Valor en iteracion  1 :  1.75  Con un error de:  0.24999999999999994\n",
      "Valor en iteracion  2 :  1.3939393939393943  Con un error de:  0.039999999999999855\n",
      "Valor en iteracion  3 :  1.3491379310344827  Con un error de:  0.0059171597633135885\n",
      "Valor en iteracion  4 :  1.34273182957395  Con un error de:  0.0008650519031141185\n",
      "Valor en iteracion  5 :  1.3417999086339294  Con un error de:  0.00012624668602460442\n",
      "El método a convergido\n",
      "Raiz:  0.6180257510729613\n"
     ]
    }
   ],
   "source": [
    "import numpy as np\n",
    "\n",
    "def f(x):\n",
    "    return (x**2 + x -1)\n",
    "\n",
    "def g(x):\n",
    "    return ( 1 / (1 + x))\n",
    "\n",
    "\n",
    "def Steffensen(xn, eps, MaxIt, f, d):\n",
    "    iteracion = 0 \n",
    "    xn_1 = g(xn)\n",
    "    xn_2 = g(xn_1)\n",
    "    x = xn - ( (xn_1 - xn) / (xn_2 - 2*xn_1 + xn) )\n",
    "    #xn_1 = (xn - f(xn)/d(xn))\n",
    "    #xn = b\n",
    "    \n",
    "    while (iteracion <= MaxIt and np.abs(xn_1 - xn) > eps):\n",
    "        iteracion += 1\n",
    "        \n",
    "        error = np.abs((xn_2 - xn_1) / xn_2)\n",
    "        print('Valor en iteracion ', iteracion, \": \", x, \" Con un error de: \", error)\n",
    "        xn = xn_2\n",
    "        #print(\"fxn=\",f(xn),\"dx=\",d(xn))\n",
    "        #xn_1 = xn - (f(xn)/d(xn))\n",
    "        xn_1 = g(xn)  \n",
    "        xn_2 = g(xn_1)\n",
    "        x = xn - ( (xn_1 - xn) / (xn_2 - 2*xn_1 + xn) )\n",
    "        \n",
    "    if iteracion > MaxIt:\n",
    "        print('El método no converge en ', MaxIt, ' Iteraciones')\n",
    "    else:\n",
    "        print('El método a convergido\\nRaiz: ',xn_1)\n",
    "\n",
    "\n",
    "        \n",
    "# MEtODO DE Steffensen\n",
    "Steffensen(1, 1.0E-4, 50, f, g)"
   ]
  }
 ],
 "metadata": {
  "kernelspec": {
   "display_name": "Python 3 (ipykernel)",
   "language": "python",
   "name": "python3"
  },
  "language_info": {
   "codemirror_mode": {
    "name": "ipython",
    "version": 3
   },
   "file_extension": ".py",
   "mimetype": "text/x-python",
   "name": "python",
   "nbconvert_exporter": "python",
   "pygments_lexer": "ipython3",
   "version": "3.9.7"
  }
 },
 "nbformat": 4,
 "nbformat_minor": 5
}
