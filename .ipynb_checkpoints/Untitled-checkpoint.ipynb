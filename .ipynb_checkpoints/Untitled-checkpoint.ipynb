{
 "cells": [
  {
   "cell_type": "code",
   "execution_count": 18,
   "id": "b879f07e",
   "metadata": {},
   "outputs": [
    {
     "name": "stdout",
     "output_type": "stream",
     "text": [
      "-1763.3333333333333\n",
      "104263.82\n",
      "-104306.13\n",
      "0.0059268220148446325\n"
     ]
    }
   ],
   "source": [
    "print((-5.290) / (0.003))\n",
    "x = (1763*59.14)\n",
    "print(x)\n",
    "x = 1043*10**2\n",
    "print(-6.130- x)\n",
    "print((-5.671**-4) * -6.130)"
   ]
  },
  {
   "cell_type": "code",
   "execution_count": 14,
   "id": "2db0d2f6",
   "metadata": {},
   "outputs": [
    {
     "name": "stdout",
     "output_type": "stream",
     "text": [
      "-104269.93000000001\n"
     ]
    }
   ],
   "source": [
    "print(46.78 - ( 1763*59.17 ))"
   ]
  },
  {
   "cell_type": "code",
   "execution_count": 9,
   "id": "ecfa5fab",
   "metadata": {},
   "outputs": [
    {
     "name": "stdout",
     "output_type": "stream",
     "text": [
      "-1656.6666666666663\n"
     ]
    }
   ],
   "source": [
    "print( (54.17 - 59.14) / 0.003) "
   ]
  },
  {
   "cell_type": "code",
   "execution_count": 8,
   "id": "661157bc",
   "metadata": {},
   "outputs": [
    {
     "name": "stdout",
     "output_type": "stream",
     "text": [
      "54.17002\n",
      "-8769.8614\n",
      "47.01704\n"
     ]
    }
   ],
   "source": [
    "x1 = -1656.66\n",
    "x2 = 1\n",
    "\n",
    "print(0.003*x1 + 59.14 * x2)\n",
    "print(5.290*x1 - 6.130*x2)\n"
   ]
  },
  {
   "cell_type": "code",
   "execution_count": 28,
   "id": "cde6d45b",
   "metadata": {},
   "outputs": [
    {
     "name": "stdout",
     "output_type": "stream",
     "text": [
      "1763.6666666666667\n",
      "104263.82\n",
      "-104206.13\n",
      "82473.14\n",
      "0.002000000000000668\n",
      "-82423.22\n",
      "47.01704\n",
      "47.029160000000005\n",
      "-82422.2\n",
      "\n",
      "\n",
      "-----Calculos para con pivoteo-------\n",
      "0.10365235035508961\n",
      "-0.0030960000000002097\n",
      "-0.1036\n",
      "-0.0003108\n",
      "5.2906892\n",
      "-6.130012\n",
      "52.910000000000004\n",
      "8.935990542138152\n",
      "59.143190000000004\n",
      "59.166808\n"
     ]
    }
   ],
   "source": [
    "# CALCULOS PARA DESARROLLAR LA TAREA DEL SISTEMA 2x2 CON Y SIN PIVOTEO\n",
    "\n",
    "print(5.291/0.003)\n",
    "\n",
    "print(1763*59.14)\n",
    "print(-6.130-1042e2)\n",
    "print(1763*46.78)\n",
    "print(5.291-(1763*0.003))\n",
    "print(46.78-8247e1)\n",
    "print(59.44*7.910e-1)\n",
    "x1 = 4.04\n",
    "x2 = 7.910e-1\n",
    "print(0.003*x1+59.44*x2) #No verifica ni a palo jaajaja\n",
    "print(-1042e2*x2)\n",
    "print('\\n\\n-----Calculos para con pivoteo-------')\n",
    "print(6.130/59.14)\n",
    "print(-6.130-(-0.1036*59.14))\n",
    "print(-1.036e-1)\n",
    "print(-1.036e-1*0.003)\n",
    "print(5.291-3.108e-4)\n",
    "print(-1.036e-1*59.17)\n",
    "print(46.78-(-6.130))\n",
    "print(52.91/5.921)\n",
    "print(59.17-2.681e-2)\n",
    "x1 = 8.936\n",
    "x2 = 1\n",
    "print(59.14*x2+0.003*x1) # maomenos si verifica."
   ]
  },
  {
   "cell_type": "code",
   "execution_count": 30,
   "id": "6a2ee41a",
   "metadata": {},
   "outputs": [
    {
     "name": "stdout",
     "output_type": "stream",
     "text": [
      "1043000.0\n",
      "-591.3969969999999\n"
     ]
    }
   ],
   "source": [
    "#Verificacion de otros resultados\n",
    "x1 = 1.001\n",
    "x2 = -10\n",
    "print(-1043e2*x2)\n",
    "print(0.003*x1+59.14*x2)"
   ]
  },
  {
   "cell_type": "code",
   "execution_count": null,
   "id": "d3e85027",
   "metadata": {},
   "outputs": [],
   "source": [
    "\"\"\"\n",
    "\n",
    "    La gran variacion en los resultados se deve a la mala eleccion del elemento pivote, en el caso del desarrollo sin usar \n",
    "    pivoteo. Si se elige un pivote pequeño, se pueden producir divisiones por cero o errores de redondeo significativos, lo que\n",
    "    puede llevar a una solución inexacta o incluso a errores numéricos. Por esto es que es muy imporatne elegir un elemento \n",
    "    pivote mas adecuado (que es lo que se realiza en el desarrollo con pivoteo parcial o pivoteo total). \n",
    "    \n",
    "\n",
    "\"\"\""
   ]
  }
 ],
 "metadata": {
  "kernelspec": {
   "display_name": "Python 3 (ipykernel)",
   "language": "python",
   "name": "python3"
  },
  "language_info": {
   "codemirror_mode": {
    "name": "ipython",
    "version": 3
   },
   "file_extension": ".py",
   "mimetype": "text/x-python",
   "name": "python",
   "nbconvert_exporter": "python",
   "pygments_lexer": "ipython3",
   "version": "3.9.7"
  }
 },
 "nbformat": 4,
 "nbformat_minor": 5
}
